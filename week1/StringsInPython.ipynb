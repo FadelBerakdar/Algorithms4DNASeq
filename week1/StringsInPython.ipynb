{
 "cells": [
  {
   "cell_type": "code",
   "execution_count": 109,
   "metadata": {
    "collapsed": false
   },
   "outputs": [
    {
     "name": "stdout",
     "output_type": "stream",
     "text": [
      "3.5.1 |Anaconda 2.5.0 (x86_64)| (default, Dec  7 2015, 11:24:55) \n",
      "[GCC 4.2.1 (Apple Inc. build 5577)] \n",
      " /Users/Phoenix/anaconda/bin/python\n",
      "/Users/Phoenix/Dropbox/Projects/Code/Algorithms4DNASeq/week1\r\n"
     ]
    }
   ],
   "source": [
    "import sys\n",
    "print(sys.version , \"\\n\", sys.executable)\n",
    "!pwd\n",
    "# sys.path\n",
    "#sorted([module for module in sys.modules.keys()])\n",
    "#!conda list # modules"
   ]
  },
  {
   "cell_type": "markdown",
   "metadata": {},
   "source": [
    "# String Manipulation in Python"
   ]
  },
  {
   "cell_type": "code",
   "execution_count": 86,
   "metadata": {
    "collapsed": true
   },
   "outputs": [],
   "source": [
    "string = \"AACCGT\""
   ]
  },
  {
   "cell_type": "code",
   "execution_count": 87,
   "metadata": {
    "collapsed": false
   },
   "outputs": [
    {
     "data": {
      "text/plain": [
       "6"
      ]
     },
     "execution_count": 87,
     "metadata": {},
     "output_type": "execute_result"
    }
   ],
   "source": [
    "len(string)"
   ]
  },
  {
   "cell_type": "code",
   "execution_count": 88,
   "metadata": {
    "collapsed": false
   },
   "outputs": [
    {
     "data": {
      "text/plain": [
       "'CC'"
      ]
     },
     "execution_count": 88,
     "metadata": {},
     "output_type": "execute_result"
    }
   ],
   "source": [
    "string[2:4]"
   ]
  },
  {
   "cell_type": "code",
   "execution_count": 89,
   "metadata": {
    "collapsed": false
   },
   "outputs": [
    {
     "data": {
      "text/plain": [
       "'ACT'"
      ]
     },
     "execution_count": 89,
     "metadata": {},
     "output_type": "execute_result"
    }
   ],
   "source": [
    "string[1::2]"
   ]
  },
  {
   "cell_type": "code",
   "execution_count": 90,
   "metadata": {
    "collapsed": false
   },
   "outputs": [
    {
     "data": {
      "text/plain": [
       "'TGCCAA'"
      ]
     },
     "execution_count": 90,
     "metadata": {},
     "output_type": "execute_result"
    }
   ],
   "source": [
    "string[::-1]"
   ]
  },
  {
   "cell_type": "markdown",
   "metadata": {},
   "source": [
    "### Concatenating Strings"
   ]
  },
  {
   "cell_type": "code",
   "execution_count": 91,
   "metadata": {
    "collapsed": false
   },
   "outputs": [
    {
     "data": {
      "text/plain": [
       "'ACCTGGG'"
      ]
     },
     "execution_count": 91,
     "metadata": {},
     "output_type": "execute_result"
    }
   ],
   "source": [
    "string1 = \"ACCT\"\n",
    "string2 = \"GGG\"\n",
    "string1 + string2"
   ]
  },
  {
   "cell_type": "code",
   "execution_count": 92,
   "metadata": {
    "collapsed": false
   },
   "outputs": [
    {
     "data": {
      "text/plain": [
       "'A,C,C,T'"
      ]
     },
     "execution_count": 92,
     "metadata": {},
     "output_type": "execute_result"
    }
   ],
   "source": [
    "\",\".join(string1)"
   ]
  },
  {
   "cell_type": "code",
   "execution_count": 93,
   "metadata": {
    "collapsed": false
   },
   "outputs": [
    {
     "data": {
      "text/plain": [
       "'I have alot bunch of cute sequences ACGT,GCC,AATC :)'"
      ]
     },
     "execution_count": 93,
     "metadata": {},
     "output_type": "execute_result"
    }
   ],
   "source": [
    "seqs = [\"acgt\" , \"Gcc\", \"AATc\"]\n",
    "\n",
    "\"I have alot bunch of cute sequences {} :)\".format(\",\".join(seqs).upper())"
   ]
  },
  {
   "cell_type": "markdown",
   "metadata": {},
   "source": [
    "### Generating Random Strings"
   ]
  },
  {
   "cell_type": "markdown",
   "metadata": {},
   "source": [
    "#### By using for loop:"
   ]
  },
  {
   "cell_type": "code",
   "execution_count": 94,
   "metadata": {
    "collapsed": false
   },
   "outputs": [
    {
     "name": "stdout",
     "output_type": "stream",
     "text": [
      "GCTAAAGACA\n"
     ]
    }
   ],
   "source": [
    "import random\n",
    "random.seed(7) \n",
    "seq = ''\n",
    "for _ in range(10):\n",
    "    seq += random.choice(\"ACGT\")\n",
    "print(seq)\n",
    "\n",
    "\n"
   ]
  },
  {
   "cell_type": "markdown",
   "metadata": {},
   "source": [
    "#### By using list comprehension"
   ]
  },
  {
   "cell_type": "code",
   "execution_count": 95,
   "metadata": {
    "collapsed": false
   },
   "outputs": [
    {
     "data": {
      "text/plain": [
       "'GCTAAAGACA'"
      ]
     },
     "execution_count": 95,
     "metadata": {},
     "output_type": "execute_result"
    }
   ],
   "source": [
    "import random \n",
    "random.seed(7) # same behavior everytime\n",
    "\n",
    "seq = ''.join([random.choice('ACGT') for _ in range(10)])\n",
    "seq\n",
    "\n"
   ]
  },
  {
   "cell_type": "markdown",
   "metadata": {},
   "source": [
    "## Manipulating DNA strings"
   ]
  },
  {
   "cell_type": "code",
   "execution_count": 96,
   "metadata": {
    "collapsed": true
   },
   "outputs": [],
   "source": [
    "def longestCommonPrefix(s1, s2):\n",
    "    i = 0\n",
    "    while i < len(s1) and i < len(s2) and s1[i] == s2[i]:\n",
    "        i+=1\n",
    "    return s1[:i]\n"
   ]
  },
  {
   "cell_type": "code",
   "execution_count": 97,
   "metadata": {
    "collapsed": false
   },
   "outputs": [
    {
     "data": {
      "text/plain": [
       "'AACCG'"
      ]
     },
     "execution_count": 97,
     "metadata": {},
     "output_type": "execute_result"
    }
   ],
   "source": [
    "longestCommonPrefix(\"AACCGGGG\", \"AACCGTTGCA\")"
   ]
  },
  {
   "cell_type": "code",
   "execution_count": 98,
   "metadata": {
    "collapsed": true
   },
   "outputs": [],
   "source": [
    "def isMatch(s1, s2):        ## same like \"AAA\" == \"AA\"\n",
    "    if len(s1) == len(s2):\n",
    "        for i in range(len(s1)):\n",
    "            if s1[i] == s2[i]:\n",
    "                return True\n",
    "    return False"
   ]
  },
  {
   "cell_type": "code",
   "execution_count": 99,
   "metadata": {
    "collapsed": false
   },
   "outputs": [
    {
     "data": {
      "text/plain": [
       "False"
      ]
     },
     "execution_count": 99,
     "metadata": {},
     "output_type": "execute_result"
    }
   ],
   "source": [
    "isMatch(\"AA\",\"AAAA\")\n"
   ]
  },
  {
   "cell_type": "code",
   "execution_count": 100,
   "metadata": {
    "collapsed": false
   },
   "outputs": [],
   "source": [
    "def reverseComplement(s):\n",
    "    complement_list = {\"A\":\"T\", \"C\":\"G\", \"G\":\"C\", \"T\":\"A\"}\n",
    "    output = \"\"\n",
    "\n",
    "    for base in s:\n",
    "        output = complement_list[base] + output\n",
    "    return output"
   ]
  },
  {
   "cell_type": "code",
   "execution_count": 101,
   "metadata": {
    "collapsed": false
   },
   "outputs": [
    {
     "name": "stdout",
     "output_type": "stream",
     "text": [
      "ACGT\n"
     ]
    }
   ],
   "source": [
    "print(reverseComplement(\"ACGT\"))"
   ]
  },
  {
   "cell_type": "markdown",
   "metadata": {
    "collapsed": false
   },
   "source": [
    "---\n",
    "### Parsing Fasta Files\n",
    "\n",
    "** Fasta format: ** is a text-based format for storing biological sequences"
   ]
  },
  {
   "cell_type": "code",
   "execution_count": 2,
   "metadata": {
    "collapsed": false
   },
   "outputs": [],
   "source": [
    "def readGenome(file):\n",
    "    \"\"\"\n",
    "    takes a fasta file and returns a string contains only the bases\n",
    "    \"\"\"\n",
    "    genome = \"\"\n",
    "    with open(file, \"r\") as f:\n",
    "        for line in f:\n",
    "            if not line[0] =='>':\n",
    "                genome += line.rstrip()  # to execlude \\n \\t \\r \n",
    "    return genome\n",
    "\n",
    "def percentages(genome):\n",
    "    \"\"\"\n",
    "    calculating the genome bases percentages\n",
    "    \"\"\"\n",
    "    counts = {\"A\":0, \"C\":0, \"G\":0, \"T\":0}\n",
    "    for base in genome:\n",
    "        counts[base] += 1 \n",
    "    return counts"
   ]
  },
  {
   "cell_type": "code",
   "execution_count": 119,
   "metadata": {
    "collapsed": false
   },
   "outputs": [
    {
     "name": "stdout",
     "output_type": "stream",
     "text": [
      "appending output to nohup.out\r\n"
     ]
    }
   ],
   "source": [
    "!nohup wget --no-check https://d28rh4a8wq0iu5.cloudfront.net/ads1/data/lambda_virus.fa"
   ]
  },
  {
   "cell_type": "code",
   "execution_count": 3,
   "metadata": {
    "collapsed": false
   },
   "outputs": [
    {
     "data": {
      "text/plain": [
       "{'A': 12334, 'C': 11362, 'G': 12820, 'T': 11986}"
      ]
     },
     "execution_count": 3,
     "metadata": {},
     "output_type": "execute_result"
    }
   ],
   "source": [
    "genome = readGenome(\"lambda_virus.fa\")\n",
    "percentages(genome)\n"
   ]
  },
  {
   "cell_type": "code",
   "execution_count": 4,
   "metadata": {
    "collapsed": false
   },
   "outputs": [
    {
     "data": {
      "text/plain": [
       "Counter({'A': 12334, 'C': 11362, 'G': 12820, 'T': 11986})"
      ]
     },
     "execution_count": 4,
     "metadata": {},
     "output_type": "execute_result"
    }
   ],
   "source": [
    "import collections              # another way to do the same job\n",
    "collections.Counter(genome)"
   ]
  },
  {
   "cell_type": "markdown",
   "metadata": {
    "collapsed": true
   },
   "source": [
    "### Parsing FastQ File\n",
    "\n",
    "** FasTQ format: ** is a text-based format for storing both a biological sequence and its corresponding phred33 quality scores.\n",
    "\n",
    "** Base Quality:** is the base caller estimation of the probability of that base was called incorrectly \n",
    "\n",
    "$$Q =  -10 * log_{10}(p) $$\n",
    "Q is the base quality\n",
    "\n",
    "p is the probability that a base was called incorrectly \n",
    "\n",
    "Phred33 is the ASCII represenation of the base quality after rounding it to the nearst integer and adding 33 "
   ]
  },
  {
   "cell_type": "code",
   "execution_count": 88,
   "metadata": {
    "collapsed": false
   },
   "outputs": [
    {
     "name": "stdout",
     "output_type": "stream",
     "text": [
      "appending output to nohup.out\r\n"
     ]
    }
   ],
   "source": [
    "!nohup wget http://d28rh4a8wq0iu5.cloudfront.net/ads1/data/SRR835775_1.first1000.fastq"
   ]
  },
  {
   "cell_type": "code",
   "execution_count": 29,
   "metadata": {
    "collapsed": false
   },
   "outputs": [],
   "source": [
    "def fastqParser(file):\n",
    "    \"\"\"\n",
    "    takes a fastq file and returns two list objects; reads and qualities\n",
    "    \"\"\"\n",
    "    with open(file, \"r\") as f:\n",
    "            lines = [line.rstrip() for line in f.readlines()]\n",
    "    \n",
    "    reads = [line for line in lines[1::4]]\n",
    "    qualities = [line for line in lines[3::4]]\n",
    "    \n",
    "    return reads, qualities\n",
    "\n",
    "def Q2phred33(Q):\n",
    "    \"\"\"\n",
    "    take base quality and returns its phred33 value\n",
    "    round to the nearst integer then \n",
    "    \"\"\"\n",
    "    return chr(round(Q) + 33)\n",
    "\n",
    "def phred33toQ(qual):\n",
    "    \"\"\"\n",
    "    take phred33 quality score and return an approximation of the base quality score\n",
    "    \"\"\"\n",
    "    return ord(qual) - 33\n",
    "\n",
    "def base_quality_histo(qualities_lst):\n",
    "    \"\"\"\n",
    "    takes phred33 qualities and return base quality histogram \n",
    "    \"\"\"\n",
    "    hist = [0] * 50\n",
    "    for qualities in qualities_lst:\n",
    "        for qual in qualities:\n",
    "            q = phred33toQ(qual)\n",
    "            hist[q] += 1\n",
    "    return hist\n",
    "\n",
    "def GCfinder(reads):\n",
    "    gc = [0] * 100\n",
    "    total = [0] * 100"
   ]
  },
  {
   "cell_type": "code",
   "execution_count": 89,
   "metadata": {
    "collapsed": false
   },
   "outputs": [],
   "source": [
    "reads_lst, qualities_lst = fastqParser('SRR835775_1.first1000.fastq')  ## what if Q33 equals ' or \" !!!\n",
    "\n",
    "for qualities in qualities_lst:\n",
    "    for qual in qualities:\n",
    "        if qual == '\"' or i == \"'\":\n",
    "            print(qual)"
   ]
  },
  {
   "cell_type": "code",
   "execution_count": 108,
   "metadata": {
    "collapsed": false
   },
   "outputs": [
    {
     "name": "stdout",
     "output_type": "stream",
     "text": [
      "[6, 2, 4, 20, 14, 14, 215, 119, 35, 169, 506, 553, 302, 70, 41, 39, 126, 363, 255, 704, 224, 644, 474, 519, 760, 270, 315, 371, 515, 937, 1078, 2615, 1542, 2879, 3189, 5178, 9172, 16755, 29108, 14329, 4099, 1114, 286, 70, 0, 0, 0, 0, 0, 0]\n"
     ]
    }
   ],
   "source": [
    "print(base_quality_histo(qualities_lst))"
   ]
  },
  {
   "cell_type": "code",
   "execution_count": 141,
   "metadata": {
    "collapsed": false
   },
   "outputs": [
    {
     "data": {
      "image/png": "[encoded data removed]",
      "text/plain": [
       "<matplotlib.figure.Figure at 0x10d539be0>"
      ]
     },
     "metadata": {},
     "output_type": "display_data"
    }
   ],
   "source": [
    "%matplotlib inline\n",
    "import matplotlib.pyplot as plt\n",
    "\n",
    "\n",
    "Q33scores = base_quality_histo(qualities_lst) \n",
    "xticks_pos = [i for i in range(51)]\n",
    "plt.bar(range(len(Q33scores)) , Q33scores , width=1 )\n",
    "plt.show()"
   ]
  },
  {
   "cell_type": "code",
   "execution_count": 142,
   "metadata": {
    "collapsed": false
   },
   "outputs": [
    {
     "name": "stdout",
     "output_type": "stream",
     "text": [
      "Counter({'T': 30531, 'A': 28426, 'C': 21890, 'G': 19147, 'N': 6})\n"
     ]
    }
   ],
   "source": [
    "import collections\n",
    "\n",
    "count = collections.Counter()\n",
    "for read in reads_lst:\n",
    "    count.update(read)\n",
    "print(count)"
   ]
  },
  {
   "cell_type": "markdown",
   "metadata": {},
   "source": [
    "----\n",
    "**GC content: **different species may have different GC content. we can use GC content to figure out whether the mix of bases is changing over the read or not ? auner normal consequences it should not change but if there is for example bad sequencing cycle, we may see different gc content than the other bases\n"
   ]
  },
  {
   "cell_type": "code",
   "execution_count": 143,
   "metadata": {
    "collapsed": true
   },
   "outputs": [],
   "source": [
    "def GCfinderByPosition(reads):\n",
    "    \"\"\"\n",
    "    calaulating gc content at each base\n",
    "    \"\"\"\n",
    "    gc = [0] * len(reads[0])\n",
    "    totals = [0] * 100\n",
    "    \n",
    "    for read in reads:\n",
    "        for index, base in enumerate(read):\n",
    "            if base == 'C' or  base=='G':\n",
    "                gc[index] += 1\n",
    "            totals[index] += 1\n",
    "    for i in range(len(gc)):\n",
    "        gc[i] /= float(totals[i])\n",
    "                \n",
    "    return gc"
   ]
  },
  {
   "cell_type": "code",
   "execution_count": 144,
   "metadata": {
    "collapsed": true
   },
   "outputs": [],
   "source": [
    "def GCcalaculator(reads):\n",
    "    \"\"\"\n",
    "    calaulating gc content at each base\n",
    "    \"\"\"\n",
    "    gc = [0] * 100\n",
    "    totals = [0] * 100\n",
    "    \n",
    "    for read in reads:\n",
    "        for i in range(len(read)):\n",
    "            if read[i] == 'C' or read[i]=='G':\n",
    "                gc[i] += 1\n",
    "            totals[i] += 1\n",
    "    for i in range(len(gc)):\n",
    "        if totals[i] > 0:\n",
    "            gc[i] /= float(totals[i])\n",
    "                \n",
    "    return gc"
   ]
  },
  {
   "cell_type": "code",
   "execution_count": 145,
   "metadata": {
    "collapsed": false
   },
   "outputs": [
    {
     "name": "stdout",
     "output_type": "stream",
     "text": [
      "100\n"
     ]
    },
    {
     "data": {
      "image/png": "[encoded data removed]",
      "text/plain": [
       "<matplotlib.figure.Figure at 0x10c6166d8>"
      ]
     },
     "metadata": {},
     "output_type": "display_data"
    }
   ],
   "source": [
    "print(len(reads_lst[0]))\n",
    "gc = GCcalaculator(reads_lst)\n",
    "gc= GCfinderByPosition(reads_lst)\n",
    "plt.plot(range(len(gc)), gc)\n",
    "plt.show()"
   ]
  },
  {
   "cell_type": "markdown",
   "metadata": {
    "collapsed": true
   },
   "source": [
    "---\n",
    "### Read-Alignment Problem\n",
    "in simple words how to find a read in a reference genome "
   ]
  },
  {
   "cell_type": "code",
   "execution_count": 156,
   "metadata": {
    "collapsed": false
   },
   "outputs": [
    {
     "data": {
      "text/plain": [
       "40"
      ]
     },
     "execution_count": 156,
     "metadata": {},
     "output_type": "execute_result"
    }
   ],
   "source": [
    "# simplified version of read-alignment problem:\n",
    "\n",
    "p = \"word\"\n",
    "t = \"There would habe been a time for such a word\"\n",
    "\n",
    "# at what offsets does the pattern p occur within text t\n",
    "t.find(p)\n"
   ]
  },
  {
   "cell_type": "markdown",
   "metadata": {},
   "source": [
    "#### Naive Exact matching algorithm\n",
    "\n",
    "let x = |P|, y=|T|\n",
    "\n",
    "How many alignments are possible given x and y? \n",
    "$$ y - x + 1 $$\n",
    "\n",
    "What is the greatest number of character comparisons possible? \n",
    "$$ x (y - x + 1) $$\n",
    "* p = \"aaa\"\n",
    "* t = \"aaaaaaaaaaaaaaaaaaa\"\n",
    "\n",
    "what is the least number of character comparisons possible? \n",
    "$$y - x + 1 $$\n",
    "* p = \"baa\"\n",
    "* t = \"aaaaaaaaaaaaaaaaaaa\""
   ]
  },
  {
   "cell_type": "code",
   "execution_count": 73,
   "metadata": {
    "collapsed": false
   },
   "outputs": [],
   "source": [
    "def naive(p, t):\n",
    "    \"\"\"\n",
    "    Implementaion of the Naive Exact Matching Algorithm\n",
    "    :param p: pattern\n",
    "    :param t: text\n",
    "    :return: a list object contains the indices of the matched strings\n",
    "    \"\"\"\n",
    "    occurrences = []\n",
    "    for i in range(len(t) - len(p) + 1):  # loop over all 'possible' alignments\n",
    "        match = True\n",
    "        for j in range(len(p)):           # loop over characters\n",
    "            if t[i+j] != p[j]:            # compare characters\n",
    "                match = False             # mismatch; reject alignment\n",
    "                break\n",
    "        if match:\n",
    "            occurrences.append(i)         # all chars matched; recorded\n",
    "    return occurrences\n"
   ]
  },
  {
   "cell_type": "code",
   "execution_count": 74,
   "metadata": {
    "collapsed": false
   },
   "outputs": [
    {
     "data": {
      "text/plain": [
       "[0, 7, 11]"
      ]
     },
     "execution_count": 74,
     "metadata": {},
     "output_type": "execute_result"
    }
   ],
   "source": [
    "t = \"ACCGTGTACGTAC\"\n",
    "p = \"AC\"\n",
    "naive(p, t)"
   ]
  },
  {
   "cell_type": "code",
   "execution_count": 75,
   "metadata": {
    "collapsed": true
   },
   "outputs": [],
   "source": [
    "def readGenerator(genome, number_of_reads, reads_length):\n",
    "    \"\"\"\n",
    "    Generate reads from random position in a given genome\n",
    "\n",
    "    :param genome: string objects contain a sequence\n",
    "    :param number_of_reads: number of the reads to be generated\n",
    "    :param reads_length: the length of the reads\n",
    "    :return: list object contains reads\n",
    "    \"\"\"\n",
    "\n",
    "    import random\n",
    "\n",
    "    reads = []\n",
    "    if len(genome) >= reads_length:\n",
    "        for i in range(number_of_reads):\n",
    "            # first we should choose a valid position for the read\n",
    "            position = random.randint(0, len(genome) - reads_length + 1)\n",
    "            read = genome[position:position+reads_length]\n",
    "\n",
    "            reads.append(read)\n",
    "    return reads\n",
    "    "
   ]
  },
  {
   "cell_type": "markdown",
   "metadata": {},
   "source": [
    "### Implementing the naive with real reads and genome"
   ]
  },
  {
   "cell_type": "code",
   "execution_count": 76,
   "metadata": {
    "collapsed": false
   },
   "outputs": [
    {
     "name": "stdout",
     "output_type": "stream",
     "text": [
      "appending output to nohup.out\r\n"
     ]
    }
   ],
   "source": [
    "!nohup wget \"https://d28rh4a8wq0iu5.cloudfront.net/ads1/data/phix.fa\"\n",
    "\n",
    "reads, _ = fastqParser(\"ERR266411_1.first1000.fastq\")  # _ indicates that Im not interested in it\n",
    "genome = genome = readGenome(\"phix.fa\")"
   ]
  },
  {
   "cell_type": "code",
   "execution_count": 77,
   "metadata": {
    "collapsed": false,
    "scrolled": true
   },
   "outputs": [
    {
     "name": "stdout",
     "output_type": "stream",
     "text": [
      "7 / 1000 reads matched the genome\n"
     ]
    }
   ],
   "source": [
    "# for each read, loop over the genome and find if its matched or not \n",
    "number_matches = 0\n",
    "number_of_reads = 0\n",
    "\n",
    "for read in reads:\n",
    "    number_of_reads += 1\n",
    "    match = naive(read, genome)        # check matching\n",
    "    \n",
    "    if match:\n",
    "        number_matches += 1\n",
    "\n",
    "print(\"%d / %d reads matched the genome\" % (number_matches, number_of_reads))"
   ]
  },
  {
   "cell_type": "code",
   "execution_count": 78,
   "metadata": {
    "collapsed": false
   },
   "outputs": [
    {
     "name": "stdout",
     "output_type": "stream",
     "text": [
      "459 / 1000 reads matched the genome\n"
     ]
    }
   ],
   "source": [
    "# eaxtly the same previous experiment, but we decrese the length of the read to check whether \n",
    "number_matches = 0\n",
    "number_of_reads = 0\n",
    "\n",
    "for read in reads:\n",
    "    read = read[:30]\n",
    "    number_of_reads += 1\n",
    "    match = naive(read, genome)        # check matching\n",
    "    \n",
    "    if match:\n",
    "        number_matches += 1\n",
    "\n",
    "print(\"%d / %d reads matched the genome\" % (number_matches, number_of_reads))"
   ]
  },
  {
   "cell_type": "markdown",
   "metadata": {},
   "source": [
    "_ ** notice that the number of matches still low, and the reason behind that is not only sequencing errors but also the fact that reads may come from the reversed strand !! ** _"
   ]
  },
  {
   "cell_type": "code",
   "execution_count": 79,
   "metadata": {
    "collapsed": false
   },
   "outputs": [
    {
     "name": "stdout",
     "output_type": "stream",
     "text": [
      "932 / 1000 reads matched the genome\n"
     ]
    }
   ],
   "source": [
    "# eaxtly the same previous experiment, but we added the reveres complement for each read\n",
    "def reverseComplement(s):\n",
    "    complement_list = {\"A\":\"T\", \"C\":\"G\", \"G\":\"C\", \"T\":\"A\", \"N\":\"N\"}\n",
    "    output = \"\"\n",
    "\n",
    "    for base in s:\n",
    "        output = complement_list[base] + output\n",
    "    return output\n",
    "\n",
    "\n",
    "number_matches = 0\n",
    "number_of_reads = 0\n",
    "\n",
    "for read in reads:\n",
    "    read = read[:30]\n",
    "    number_of_reads += 1\n",
    "    match = naive(read, genome)        # check matching\n",
    "    match.extend(naive(reverseComplement(read), genome))   # appending elements of list not the list\n",
    "    if match:\n",
    "        number_matches += 1\n",
    "\n",
    "print(\"%d / %d reads matched the genome\" % (number_matches, number_of_reads))\n"
   ]
  },
  {
   "cell_type": "markdown",
   "metadata": {},
   "source": [
    "---\n",
    "## Programming Homework "
   ]
  },
  {
   "cell_type": "markdown",
   "metadata": {},
   "source": [
    "1- How many times does 𝙰𝙶𝙶𝚃 or its reverse complement (𝙰𝙲𝙲𝚃) occur in the lambda virus genome? E.g. if 𝙰𝙶𝙶𝚃 occurs 10 times and 𝙰𝙲𝙲𝚃 occurs 12 times, you should report 22."
   ]
  },
  {
   "cell_type": "code",
   "execution_count": 107,
   "metadata": {
    "collapsed": false
   },
   "outputs": [
    {
     "name": "stdout",
     "output_type": "stream",
     "text": [
      "306\n"
     ]
    }
   ],
   "source": [
    "genome = readGenome(\"lambda_virus.fa\")\n",
    "pattern = \"ACCT\"\n",
    "match = naive(pattern, genome)\n",
    "match.extend(naive(reverseComplement(pattern), genome))\n",
    "print(len(match))"
   ]
  },
  {
   "cell_type": "markdown",
   "metadata": {},
   "source": [
    "2- How many times does 𝚃𝚃𝙰𝙰 or its reverse complement occur in the lambda virus genome?"
   ]
  },
  {
   "cell_type": "code",
   "execution_count": 108,
   "metadata": {
    "collapsed": false
   },
   "outputs": [
    {
     "name": "stdout",
     "output_type": "stream",
     "text": [
      "195\n"
     ]
    }
   ],
   "source": [
    "genome = readGenome(\"lambda_virus.fa\")\n",
    "pattern = \"TTAA\"\n",
    "match = naive(pattern, genome)\n",
    "# match.extend(naive(reverseComplement(pattern), genome)) cos TTAA = reverseComplement(TTAA)\n",
    "print(len(match))"
   ]
  },
  {
   "cell_type": "markdown",
   "metadata": {},
   "source": [
    "3- What is the offset of the leftmost occurrence of 𝙰𝙲𝚃𝙰𝙰𝙶𝚃 or its reverse complement in the Lambda virus genome? E.g. if the leftmost occurrence of 𝙰𝙲𝚃𝙰𝙰𝙶𝚃 is at offset 40 (0-based) and the leftmost occurrence of its reverse complement 𝙰𝙲𝚃𝚃𝙰𝙶𝚃 is at offset 29, then report 29."
   ]
  },
  {
   "cell_type": "code",
   "execution_count": 115,
   "metadata": {
    "collapsed": false
   },
   "outputs": [],
   "source": [
    "genome = readGenome(\"lambda_virus.fa\")\n",
    "pattern = \"ACTAAGT\"\n",
    "match_forward = naive(pattern, genome)\n",
    "match_reverse = naive(reverseComplement(pattern), genome)\n",
    "\n",
    "match_forward, match_reverse\n",
    "\n",
    "rsult = 26028"
   ]
  },
  {
   "cell_type": "code",
   "execution_count": 114,
   "metadata": {
    "collapsed": false
   },
   "outputs": [
    {
     "data": {
      "text/plain": [
       "([18005, 23320, 33657, 44806], [450, 1908, 2472, 41927, 45369])"
      ]
     },
     "execution_count": 114,
     "metadata": {},
     "output_type": "execute_result"
    }
   ],
   "source": [
    "genome = readGenome(\"lambda_virus.fa\")\n",
    "pattern = \"AGTCGA\"\n",
    "match_forward = naive(pattern, genome)\n",
    "match_reverse = naive(reverseComplement(pattern), genome)\n",
    "\n",
    "match_forward, match_reverse"
   ]
  },
  {
   "cell_type": "markdown",
   "metadata": {},
   "source": [
    "5- As we will discuss, sometimes we would like to find approximate matches for P in T. That is, we want to find occurrences with one or more differences.\n",
    "\n",
    "For Questions 5 and 6, make a new version of the 𝚗𝚊𝚒𝚟𝚎 function called 𝚗𝚊𝚒𝚟𝚎_𝟸𝚖𝚖 that allows up to 2 mismatches per occurrence. Unlike for the previous questions, do not consider the reverse complement here. We're looking for approximate matches for P itself, not its reverse complement.\n",
    "\n",
    "￼\n",
    "\n",
    "For example, 𝙰𝙲𝚃𝚃𝚃𝙰 occurs twice in 𝙰𝙲𝚃𝚃𝙰𝙲𝚃𝚃𝙶𝙰𝚃𝙰𝙰𝙰𝙶𝚃, once at offset 0 with 2 mismatches, and once at offset 4 with 1 mismatch. So 𝚗𝚊𝚒𝚟𝚎_𝟸𝚖𝚖('𝙰𝙲𝚃𝚃𝚃𝙰', '𝙰𝙲𝚃𝚃𝙰𝙲𝚃𝚃𝙶𝙰𝚃𝙰𝙰𝙰𝙶𝚃') should return the list [𝟶, 𝟺].\n",
    "\n",
    "Hint: See this notebook for a few examples you can use to test your 𝚗𝚊𝚒𝚟𝚎_𝟸𝚖𝚖 function.\n",
    "\n",
    "How many times does 𝚃𝚃𝙲𝙰𝙰𝙶𝙲𝙲 occur in the Lambda virus genome when allowing up to 2 mismatches?\n"
   ]
  },
  {
   "cell_type": "code",
   "execution_count": 116,
   "metadata": {
    "collapsed": true
   },
   "outputs": [],
   "source": [
    "def naiveWitherrors(p, t, errors):\n",
    "    \"\"\"\n",
    "    Implementaion of the Naive Exact Matching Algorithm\n",
    "    :param p: pattern\n",
    "    :param t: text\n",
    "    :param errors: number or accepted errors in each match\n",
    "    :return: a list object contains the indices of the matched strings\n",
    "    \"\"\"\n",
    "    occurrences = []\n",
    "    for i in range(len(t) - len(p) + 1):  # loop over all 'possible' alignments\n",
    "        error = 0\n",
    "        match = True\n",
    "        for j in range(len(p)):           # loop over characters\n",
    "            if t[i+j] != p[j]:            # compare characters\n",
    "                errors += 1\n",
    "                if error > errors:\n",
    "\n",
    "                    match = False             # mismatch; reject alignment\n",
    "                    break\n",
    "        if match:\n",
    "            occurrences.append(i)         # all chars matched; recorded\n",
    "    return occurrences"
   ]
  },
  {
   "cell_type": "code",
   "execution_count": 118,
   "metadata": {
    "collapsed": false
   },
   "outputs": [
    {
     "name": "stdout",
     "output_type": "stream",
     "text": [
      "191\n"
     ]
    }
   ],
   "source": [
    "genome = readGenome(\"lambda_virus.fa\")\n",
    "pattern = \"TTCAAGCC\"\n",
    "\n",
    "match = naive2errors(pattern, genome, 2)\n",
    "\n",
    "print(len(match))"
   ]
  },
  {
   "cell_type": "markdown",
   "metadata": {},
   "source": [
    "6- What is the offset of the leftmost occurrence of 𝙰𝙶𝙶𝙰𝙶𝙶𝚃𝚃 in the Lambda virus genome when allowing up to 2 mismatches?"
   ]
  },
  {
   "cell_type": "code",
   "execution_count": 120,
   "metadata": {
    "collapsed": false,
    "scrolled": true
   },
   "outputs": [
    {
     "data": {
      "text/plain": [
       "[49,\n",
       " 282,\n",
       " 299,\n",
       " 302,\n",
       " 380,\n",
       " 1560,\n",
       " 1650,\n",
       " 2235,\n",
       " 2277,\n",
       " 2400,\n",
       " 2562,\n",
       " 2565,\n",
       " 2729,\n",
       " 2823,\n",
       " 3160,\n",
       " 3181,\n",
       " 3946,\n",
       " 4210,\n",
       " 4294,\n",
       " 4309,\n",
       " 4405,\n",
       " 4580,\n",
       " 5069,\n",
       " 5159,\n",
       " 5189,\n",
       " 5231,\n",
       " 5331,\n",
       " 5519,\n",
       " 5737,\n",
       " 5882,\n",
       " 5993,\n",
       " 5996,\n",
       " 6011,\n",
       " 6312,\n",
       " 6522,\n",
       " 6585,\n",
       " 6606,\n",
       " 7316,\n",
       " 7394,\n",
       " 7819,\n",
       " 7904,\n",
       " 7966,\n",
       " 7998,\n",
       " 8534,\n",
       " 8648,\n",
       " 8946,\n",
       " 9339,\n",
       " 9354,\n",
       " 9530,\n",
       " 9842,\n",
       " 9966,\n",
       " 10041,\n",
       " 10250,\n",
       " 10416,\n",
       " 10445,\n",
       " 10484,\n",
       " 10527,\n",
       " 10874,\n",
       " 11193,\n",
       " 11292,\n",
       " 11505,\n",
       " 11568,\n",
       " 11655,\n",
       " 11745,\n",
       " 11838,\n",
       " 12078,\n",
       " 12180,\n",
       " 12222,\n",
       " 12697,\n",
       " 12745,\n",
       " 12819,\n",
       " 12880,\n",
       " 12935,\n",
       " 13011,\n",
       " 13087,\n",
       " 13256,\n",
       " 13415,\n",
       " 13526,\n",
       " 13813,\n",
       " 14259,\n",
       " 15385,\n",
       " 15473,\n",
       " 16192,\n",
       " 17101,\n",
       " 17437,\n",
       " 17755,\n",
       " 17936,\n",
       " 17989,\n",
       " 18016,\n",
       " 18040,\n",
       " 18727,\n",
       " 18853,\n",
       " 18911,\n",
       " 19232,\n",
       " 19263,\n",
       " 19310,\n",
       " 19833,\n",
       " 19929,\n",
       " 19932,\n",
       " 19947,\n",
       " 19980,\n",
       " 20793,\n",
       " 20802,\n",
       " 21305,\n",
       " 21528,\n",
       " 21627,\n",
       " 21684,\n",
       " 22414,\n",
       " 22660,\n",
       " 22670,\n",
       " 22787,\n",
       " 23326,\n",
       " 24063,\n",
       " 24145,\n",
       " 24409,\n",
       " 24595,\n",
       " 24681,\n",
       " 25120,\n",
       " 25139,\n",
       " 25210,\n",
       " 25381,\n",
       " 25384,\n",
       " 25648,\n",
       " 25664,\n",
       " 25773,\n",
       " 25987,\n",
       " 26196,\n",
       " 26208,\n",
       " 26576,\n",
       " 26587,\n",
       " 26653,\n",
       " 26736,\n",
       " 27892,\n",
       " 27967,\n",
       " 28042,\n",
       " 28622,\n",
       " 28840,\n",
       " 28976,\n",
       " 29119,\n",
       " 30029,\n",
       " 30530,\n",
       " 30673,\n",
       " 30902,\n",
       " 31619,\n",
       " 31645,\n",
       " 31682,\n",
       " 31843,\n",
       " 31859,\n",
       " 32069,\n",
       " 33180,\n",
       " 33365,\n",
       " 33715,\n",
       " 33952,\n",
       " 34321,\n",
       " 34421,\n",
       " 34841,\n",
       " 34848,\n",
       " 34956,\n",
       " 35145,\n",
       " 35253,\n",
       " 35289,\n",
       " 35643,\n",
       " 36185,\n",
       " 36687,\n",
       " 36869,\n",
       " 38030,\n",
       " 38197,\n",
       " 38381,\n",
       " 38479,\n",
       " 38737,\n",
       " 39282,\n",
       " 39600,\n",
       " 39681,\n",
       " 39786,\n",
       " 39828,\n",
       " 39954,\n",
       " 40119,\n",
       " 40337,\n",
       " 40508,\n",
       " 40781,\n",
       " 40887,\n",
       " 40890,\n",
       " 40946,\n",
       " 41110,\n",
       " 41225,\n",
       " 41264,\n",
       " 41282,\n",
       " 41324,\n",
       " 41570,\n",
       " 41693,\n",
       " 41717,\n",
       " 41768,\n",
       " 42079,\n",
       " 42082,\n",
       " 42266,\n",
       " 42353,\n",
       " 43039,\n",
       " 43184,\n",
       " 43389,\n",
       " 43662,\n",
       " 43689,\n",
       " 45033,\n",
       " 45727,\n",
       " 45763,\n",
       " 45781,\n",
       " 45790,\n",
       " 46173,\n",
       " 46215,\n",
       " 47028,\n",
       " 47220,\n",
       " 47930,\n",
       " 48101,\n",
       " 48256,\n",
       " 48301,\n",
       " 48411]"
      ]
     },
     "execution_count": 120,
     "metadata": {},
     "output_type": "execute_result"
    }
   ],
   "source": [
    "genome = readGenome(\"lambda_virus.fa\")\n",
    "pattern = \"AGGAGGTT\"\n",
    "\n",
    "match = naive2errors(pattern, genome, 2)\n",
    "\n",
    "match"
   ]
  },
  {
   "cell_type": "markdown",
   "metadata": {},
   "source": [
    "Finally, download and parse the provided FASTQ file containing real DNA sequencing reads derived from a human:\n",
    "\n",
    "https://d28rh4a8wq0iu5.cloudfront.net/ads1/data/ERR037900_1.first1000.fastq\n",
    "\n",
    "Note that the file has many reads in it and you should examine all of them together when answering this question. The reads are taken from this study:\n",
    "\n",
    "Ajay, S. S., Parker, S. C., Abaan, H. O., Fajardo, K. V. F., & Margulies, E. H. (2011). Accurate\n",
    "\n",
    "and comprehensive sequencing of personal genomes. Genome research, 21(9), 1498-1505.\n",
    "\n",
    "This dataset has something wrong with it; one of the sequencing cycles is poor quality.\n",
    "\n",
    "Report which sequencing cycle has the problem. Remember that a sequencing cycle corresponds to a particular offset in all the reads. For example, if the leftmost read position seems to have a problem consistently across reads, report 0. If the fourth position from the left has the problem, report 3. Do whatever analysis you think is needed to identify the bad cycle. It might help to review the \"Analyzing reads by position\" video."
   ]
  },
  {
   "cell_type": "code",
   "execution_count": 150,
   "metadata": {
    "collapsed": false
   },
   "outputs": [
    {
     "name": "stdout",
     "output_type": "stream",
     "text": [
      "appending output to nohup.out\r\n"
     ]
    }
   ],
   "source": [
    "!nohup wget https://d28rh4a8wq0iu5.cloudfront.net/ads1/data/ERR037900_1.first1000.fastq"
   ]
  },
  {
   "cell_type": "code",
   "execution_count": null,
   "metadata": {
    "collapsed": true
   },
   "outputs": [],
   "source": []
  }
 ],
 "metadata": {
  "kernelspec": {
   "display_name": "Python 3",
   "language": "python",
   "name": "python3"
  },
  "language_info": {
   "codemirror_mode": {
    "name": "ipython",
    "version": 3
   },
   "file_extension": ".py",
   "mimetype": "text/x-python",
   "name": "python",
   "nbconvert_exporter": "python",
   "pygments_lexer": "ipython3",
   "version": "3.5.1"
  }
 },
 "nbformat": 4,
 "nbformat_minor": 0
}
